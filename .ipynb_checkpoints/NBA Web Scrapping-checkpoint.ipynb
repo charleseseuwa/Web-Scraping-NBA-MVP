{
 "cells": [
  {
   "cell_type": "markdown",
   "id": "15feb445",
   "metadata": {},
   "source": [
    "# Scrapping MVP Votes Data"
   ]
  },
  {
   "cell_type": "code",
   "execution_count": 1,
   "id": "d032eef2",
   "metadata": {},
   "outputs": [],
   "source": [
    "import pandas as pd\n",
    "import requests\n",
    "from bs4 import BeautifulSoup"
   ]
  },
  {
   "cell_type": "markdown",
   "id": "4291831f",
   "metadata": {},
   "source": [
    "[NBA League](https://www.basketball-reference.com/awards/awards_2022.html)"
   ]
  },
  {
   "cell_type": "code",
   "execution_count": 2,
   "id": "4ad75bfd",
   "metadata": {},
   "outputs": [],
   "source": [
    "years = list(range(1999, 2024))"
   ]
  },
  {
   "cell_type": "code",
   "execution_count": 3,
   "id": "20823dd4",
   "metadata": {},
   "outputs": [],
   "source": [
    "url_start = 'https://www.basketball-reference.com/awards/awards_{}.html'"
   ]
  },
  {
   "cell_type": "code",
   "execution_count": 5,
   "id": "1a175e52",
   "metadata": {},
   "outputs": [],
   "source": [
    "for year in years:\n",
    "    url = url_start.format(year)\n",
    "    data = requests.get(url)\n",
    "    \n",
    "    with open('mvp/{}.html'.format(year), 'w+', encoding='utf-8') as f:\n",
    "        f.write(data.text)"
   ]
  },
  {
   "cell_type": "markdown",
   "id": "bc108ffc",
   "metadata": {},
   "source": [
    "# Parsing The Vote Table with BEautifulSoup"
   ]
  },
  {
   "cell_type": "code",
   "execution_count": null,
   "id": "caf8af30",
   "metadata": {},
   "outputs": [],
   "source": []
  }
 ],
 "metadata": {
  "kernelspec": {
   "display_name": "Python 3 (ipykernel)",
   "language": "python",
   "name": "python3"
  },
  "language_info": {
   "codemirror_mode": {
    "name": "ipython",
    "version": 3
   },
   "file_extension": ".py",
   "mimetype": "text/x-python",
   "name": "python",
   "nbconvert_exporter": "python",
   "pygments_lexer": "ipython3",
   "version": "3.9.7"
  }
 },
 "nbformat": 4,
 "nbformat_minor": 5
}
